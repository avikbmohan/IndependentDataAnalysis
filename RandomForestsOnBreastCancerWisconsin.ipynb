{
 "cells": [
  {
   "cell_type": "code",
   "execution_count": 76,
   "metadata": {},
   "outputs": [],
   "source": [
    "import pandas as pd\n",
    "import numpy as np"
   ]
  },
  {
   "cell_type": "code",
   "execution_count": 77,
   "metadata": {},
   "outputs": [
    {
     "data": {
      "text/plain": [
       "1000025    1057013\n",
       "5                8\n",
       "1                4\n",
       "1.1              5\n",
       "1.2              1\n",
       "2                2\n",
       "1.3              ?\n",
       "3                7\n",
       "1.4              3\n",
       "1.5              1\n",
       "2.1              4\n",
       "Name: 22, dtype: object"
      ]
     },
     "execution_count": 77,
     "metadata": {},
     "output_type": "execute_result"
    }
   ],
   "source": [
    "data = pd.read_csv(r'C:/Users/Avik/Desktop/breast-cancer-wisconsin.csv')\n",
    "data.shape\n",
    "data.iloc[22] #ew, missing data"
   ]
  },
  {
   "cell_type": "code",
   "execution_count": 78,
   "metadata": {},
   "outputs": [
    {
     "data": {
      "text/plain": [
       "(682, 11)"
      ]
     },
     "execution_count": 78,
     "metadata": {},
     "output_type": "execute_result"
    }
   ],
   "source": [
    "data.replace('?', np.NaN, inplace=True) #lets just drop the ~10 rows with missing data\n",
    "data.dropna(inplace=True)\n",
    "data.shape"
   ]
  },
  {
   "cell_type": "code",
   "execution_count": 79,
   "metadata": {},
   "outputs": [
    {
     "data": {
      "text/plain": [
       "array([[1002945, 5, 4, ..., 2, 1, 2],\n",
       "       [1015425, 3, 1, ..., 1, 1, 2],\n",
       "       [1016277, 6, 8, ..., 7, 1, 2],\n",
       "       ..., \n",
       "       [888820, 5, 10, ..., 10, 2, 4],\n",
       "       [897471, 4, 8, ..., 6, 1, 4],\n",
       "       [897471, 4, 8, ..., 4, 1, 4]], dtype=object)"
      ]
     },
     "execution_count": 79,
     "metadata": {},
     "output_type": "execute_result"
    }
   ],
   "source": [
    "data = data.values\n",
    "data"
   ]
  },
  {
   "cell_type": "code",
   "execution_count": 80,
   "metadata": {},
   "outputs": [
    {
     "data": {
      "text/plain": [
       "(682, 11)"
      ]
     },
     "execution_count": 80,
     "metadata": {},
     "output_type": "execute_result"
    }
   ],
   "source": [
    "data.shape"
   ]
  },
  {
   "cell_type": "code",
   "execution_count": 81,
   "metadata": {},
   "outputs": [],
   "source": [
    "data[:,10] = (data[:, 10] / 2) - 1"
   ]
  },
  {
   "cell_type": "code",
   "execution_count": 82,
   "metadata": {},
   "outputs": [
    {
     "data": {
      "text/plain": [
       "array([[785615, 8, 6, 7, 3, 3, '10', 3, 4, 2, 1.0],\n",
       "       [1293966, 4, 1, 1, 1, 2, '1', 1, 1, 1, 0.0],\n",
       "       [809912, 10, 3, 3, 1, 2, '10', 7, 6, 1, 1.0],\n",
       "       [1183983, 9, 5, 5, 4, 4, '5', 4, 3, 3, 1.0],\n",
       "       [1321942, 5, 1, 1, 1, 2, '1', 3, 1, 1, 0.0],\n",
       "       [1173235, 3, 3, 2, 1, 2, '3', 3, 1, 1, 0.0],\n",
       "       [1152331, 4, 1, 1, 1, 2, '1', 3, 1, 1, 0.0],\n",
       "       [1152331, 4, 1, 1, 1, 2, '1', 3, 1, 1, 0.0],\n",
       "       [1238410, 2, 3, 1, 1, 3, '1', 1, 1, 1, 0.0],\n",
       "       [1167471, 4, 1, 2, 1, 2, '1', 3, 1, 1, 0.0]], dtype=object)"
      ]
     },
     "execution_count": 82,
     "metadata": {},
     "output_type": "execute_result"
    }
   ],
   "source": [
    "data[np.random.choice(data.shape[0], 10),:]"
   ]
  },
  {
   "cell_type": "code",
   "execution_count": 83,
   "metadata": {},
   "outputs": [],
   "source": [
    "import sklearn\n",
    "from sklearn.ensemble import RandomForestClassifier"
   ]
  },
  {
   "cell_type": "code",
   "execution_count": 108,
   "metadata": {},
   "outputs": [
    {
     "data": {
      "text/plain": [
       "RandomForestClassifier(bootstrap=True, class_weight=None, criterion='gini',\n",
       "            max_depth=None, max_features='auto', max_leaf_nodes=None,\n",
       "            min_impurity_decrease=0.0, min_impurity_split=None,\n",
       "            min_samples_leaf=1, min_samples_split=4,\n",
       "            min_weight_fraction_leaf=0.0, n_estimators=10, n_jobs=1,\n",
       "            oob_score=False, random_state=None, verbose=0,\n",
       "            warm_start=False)"
      ]
     },
     "execution_count": 108,
     "metadata": {},
     "output_type": "execute_result"
    }
   ],
   "source": [
    "clf = RandomForestClassifier(min_samples_split=4)\n",
    "X = data[:-10,1:9].astype(int)\n",
    "y = (data[:-10,10]).astype(int)\n",
    "clf.fit(X, y)"
   ]
  },
  {
   "cell_type": "code",
   "execution_count": 113,
   "metadata": {},
   "outputs": [
    {
     "name": "stdout",
     "output_type": "stream",
     "text": [
      "[0 1 1 0 0 0 0 0 0 0]\n",
      "[0 1 1 0 0 0 0 0 0 0]\n"
     ]
    }
   ],
   "source": [
    "X_test = X[-10:, :]\n",
    "y_test = y[-10:]\n",
    "print(clf.predict(X_test))\n",
    "print(y_test)"
   ]
  }
 ],
 "metadata": {
  "kernelspec": {
   "display_name": "Python 3",
   "language": "python",
   "name": "python3"
  },
  "language_info": {
   "codemirror_mode": {
    "name": "ipython",
    "version": 3
   },
   "file_extension": ".py",
   "mimetype": "text/x-python",
   "name": "python",
   "nbconvert_exporter": "python",
   "pygments_lexer": "ipython3",
   "version": "3.6.3"
  }
 },
 "nbformat": 4,
 "nbformat_minor": 2
}
