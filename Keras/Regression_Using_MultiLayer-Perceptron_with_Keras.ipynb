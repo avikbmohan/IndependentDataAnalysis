{
 "cells": [
  {
   "cell_type": "markdown",
   "metadata": {},
   "source": [
    "### Multi-Layer Perceptron in Keras\n",
    "##### Modification to Predict Wine Ratings using Regression\n",
    "\n",
    "Using the 'Wine Quality' datasets from UCI Machine Learning Repository<br>\n",
    "Following Karlijn Willems' DataCamp Tutorial: https://www.datacamp.com/community/tutorials/deep-learning-python"
   ]
  },
  {
   "cell_type": "code",
   "execution_count": 1,
   "metadata": {},
   "outputs": [
    {
     "name": "stderr",
     "output_type": "stream",
     "text": [
      "Using TensorFlow backend.\n"
     ]
    }
   ],
   "source": [
    "#%% Imports\n",
    "import pandas as pd\n",
    "import matplotlib.pyplot as plt\n",
    "import numpy as np\n",
    "from scipy.stats import describe\n",
    "import seaborn as sns # To check correlations during exploratory analysis\n",
    "from sklearn.model_selection import train_test_split # To split data into train/test\n",
    "from sklearn.preprocessing import StandardScaler # To standardize data\n",
    "from sklearn.metrics import confusion_matrix, precision_score, recall_score, f1_score, cohen_kappa_score\n",
    "from sklearn.model_selection import StratifiedKFold\n",
    "from keras.models import Sequential\n",
    "from keras.layers import Dense"
   ]
  },
  {
   "cell_type": "code",
   "execution_count": 2,
   "metadata": {},
   "outputs": [],
   "source": [
    "#%% Load Data\n",
    "red = pd.read_csv(r\"C:\\Users\\Avik\\Documents\\PracticeAndReview\\datasets\\redWine.csv\", sep=';')\n",
    "white = pd.read_csv(r\"C:\\Users\\Avik\\Documents\\PracticeAndReview\\datasets\\whiteWine.csv\", sep = ';')"
   ]
  },
  {
   "cell_type": "code",
   "execution_count": 3,
   "metadata": {},
   "outputs": [],
   "source": [
    "#%% Preprocess Data for Neural Net\n",
    "red['color'] = 1\n",
    "white['color'] = 0\n",
    "wines = red.append(white, ignore_index = True)"
   ]
  },
  {
   "cell_type": "code",
   "execution_count": 4,
   "metadata": {},
   "outputs": [],
   "source": [
    "#%% Split Data for Regression on Quality\n",
    "y = wines.quality\n",
    "X = wines.drop('quality', 1) #drop label 'quality' from columns"
   ]
  },
  {
   "cell_type": "code",
   "execution_count": 5,
   "metadata": {},
   "outputs": [],
   "source": [
    "#%% Standardize data again\n",
    "scaler = StandardScaler().fit(X)\n",
    "X = scaler.transform(X)"
   ]
  },
  {
   "cell_type": "code",
   "execution_count": 6,
   "metadata": {},
   "outputs": [],
   "source": [
    "#%% Use K-Fold Validation\n",
    "kfold = StratifiedKFold(n_splits=5, shuffle=True, random_state=(np.random.seed(7)))"
   ]
  },
  {
   "cell_type": "code",
   "execution_count": 7,
   "metadata": {},
   "outputs": [
    {
     "name": "stdout",
     "output_type": "stream",
     "text": [
      "0.859861386079 0.744738244333\n",
      "0.525364006849 0.57150346756\n",
      "0.569352858342 0.586802738905\n",
      "0.498001462001 0.555366260429\n",
      "0.526015091788 0.5835257202\n"
     ]
    }
   ],
   "source": [
    "#%% Begin Keras work\n",
    "# Note that there is no activation fn here, typical for scalar regression\n",
    "for train, test in kfold.split(X, y):\n",
    "    model = Sequential()\n",
    "    model.add(Dense(64, input_dim = 12, activation='relu'))\n",
    "    model.add(Dense(64, activation='relu'))\n",
    "    model.add(Dense(64, activation='relu'))\n",
    "    model.add(Dense(1))\n",
    "    model.compile(optimizer='rmsprop', loss='mse', metrics=['mae'])\n",
    "    model.fit(X[train], y[train], epochs=10, verbose=0)\n",
    "    mse_value, mae_value = model.evaluate(X[test], y[test], verbose=0)\n",
    "    print(mse_value, mae_value)"
   ]
  }
 ],
 "metadata": {
  "kernelspec": {
   "display_name": "Python 3",
   "language": "python",
   "name": "python3"
  },
  "language_info": {
   "codemirror_mode": {
    "name": "ipython",
    "version": 3
   },
   "file_extension": ".py",
   "mimetype": "text/x-python",
   "name": "python",
   "nbconvert_exporter": "python",
   "pygments_lexer": "ipython3",
   "version": "3.6.3"
  }
 },
 "nbformat": 4,
 "nbformat_minor": 2
}
